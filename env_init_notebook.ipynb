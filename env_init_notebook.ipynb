{
 "cells": [
  {
   "cell_type": "code",
   "execution_count": 1,
   "metadata": {},
   "outputs": [],
   "source": [
    "from pettingzoo.mpe import simple_tag_v2\n",
    "from gymnasium.utils.save_video import save_video\n",
    "\n",
    "import time"
   ]
  },
  {
   "cell_type": "code",
   "execution_count": 2,
   "metadata": {},
   "outputs": [],
   "source": [
    "env = simple_tag_v2.env(num_good=1, \n",
    "                        num_adversaries=3, \n",
    "                        num_obstacles=2, \n",
    "                        max_cycles=50, \n",
    "                        continuous_actions=True, \n",
    "                        render_mode=\"human\"\n",
    ")"
   ]
  },
  {
   "cell_type": "code",
   "execution_count": 11,
   "metadata": {},
   "outputs": [],
   "source": [
    "env.reset()\n",
    "for agent in env.agent_iter():\n",
    "    observation, reward, termination, truncation, info = env.last()\n",
    "    action = None if termination or truncation else env.action_space(agent).sample()  # this is where you would insert your policy\n",
    "    \n",
    "    env.step(action)\n",
    "    time.sleep(0.05)\n",
    "\n",
    "env.render()\n",
    "env.close()"
   ]
  },
  {
   "cell_type": "markdown",
   "metadata": {},
   "source": [
    "Problems to solve: \n",
    "1. save videos [reference](https://github.com/fireofearth/cpsc533v_project/blob/c897af30921e13ac81ce01cc2a8066e1d46ecc31/colin/evaluate_tag_single_adversary.py)\n",
    "3. try DQN\n",
    "4. how to implement multiple network and train on that.\n",
    "\n",
    "4. does the agent move fixed steps by each iteration in discrete mode\n",
    "5. How to fix the landmark in fixed position, or is it just the rendering make it seem not staying where it is \n"
   ]
  },
  {
   "cell_type": "markdown",
   "metadata": {},
   "source": [
    "## Action, observation and State"
   ]
  },
  {
   "cell_type": "code",
   "execution_count": 5,
   "metadata": {},
   "outputs": [
    {
     "name": "stdout",
     "output_type": "stream",
     "text": [
      "adversary_0 :\n",
      "Box(0.0, 1.0, (5,), float32)\n",
      "True\n",
      "sample action: [0.92901367 0.37396044 0.6046699  0.68962854 0.8919782 ]\n",
      "adversary_1 :\n",
      "Box(0.0, 1.0, (5,), float32)\n",
      "False\n",
      "sample action: [0.09669605 0.5639015  0.89365935 0.8282331  0.08617229]\n",
      "adversary_2 :\n",
      "Box(0.0, 1.0, (5,), float32)\n",
      "False\n",
      "sample action: [0.13027631 0.01165134 0.27997    0.39355087 0.16513759]\n",
      "agent_0 :\n",
      "Box(0.0, 1.0, (5,), float32)\n",
      "False\n",
      "sample action: [5.1456806e-04 9.9431151e-01 3.1835628e-01 4.3276712e-01 5.6209779e-01]\n"
     ]
    }
   ],
   "source": [
    "s = env.reset()\n",
    "\n",
    "# action space with four directions and stay\n",
    "\n",
    "i = 0\n",
    "# sample for different agents\n",
    "for agent in env.agent_iter():\n",
    "    a = env.action_space(agent).sample()\n",
    "    print(agent, ':')\n",
    "    # [no_action, move_left, move_right, move_down, move_up]\n",
    "    print(env.action_space(agent))\n",
    "    print(agent == 'adversary_0')\n",
    "    env.step(a)\n",
    "    print('sample action:', a)\n",
    "    # print(env.observation_spaces)\n",
    "    \n",
    "    i = i + 1\n",
    "    if i == 4:\n",
    "        break\n",
    "\n",
    "env.close()"
   ]
  },
  {
   "cell_type": "code",
   "execution_count": 18,
   "metadata": {},
   "outputs": [
    {
     "data": {
      "text/plain": [
       "array([ 0.15303998,  0.03050993, -0.97915745, -0.28953764,  1.5197377 ,\n",
       "        1.0614314 ,  1.2278101 ,  0.28194538,  0.6069736 ,  0.8174495 ,\n",
       "        0.44835332,  0.46482474,  0.5754395 ,  1.1692449 ,  0.01615815,\n",
       "       -0.00480299, -0.09565483,  0.11386324, -0.3721839 ,  0.5279119 ,\n",
       "        0.9127642 ,  0.24398187,  0.6208366 , -0.53550416, -0.6069736 ,\n",
       "       -0.8174495 , -0.15862025, -0.3526248 , -0.03153404,  0.35179535,\n",
       "        0.01615815, -0.00480299, -0.14904232, -0.03848771, -0.53080416,\n",
       "        0.17528708,  1.0713844 ,  0.5966067 ,  0.77945685, -0.18287934,\n",
       "       -0.44835332, -0.46482474,  0.15862025,  0.3526248 ,  0.1270862 ,\n",
       "        0.70442015,  0.01615815, -0.00480299,  0.01615815, -0.00480299,\n",
       "       -0.40371794,  0.8797072 ,  0.94429827, -0.10781348,  0.65237063,\n",
       "       -0.8872995 , -0.5754395 , -1.1692449 ,  0.03153404, -0.35179535,\n",
       "       -0.1270862 , -0.70442015], dtype=float32)"
      ]
     },
     "execution_count": 18,
     "metadata": {},
     "output_type": "execute_result"
    }
   ],
   "source": [
    "# state, should be 62?\n",
    "env.state()"
   ]
  },
  {
   "cell_type": "code",
   "execution_count": 3,
   "metadata": {},
   "outputs": [
    {
     "name": "stdout",
     "output_type": "stream",
     "text": [
      "adversary_0 :\n",
      "[ 0.          0.         -0.17424552 -0.08583507  0.56775844  0.3170014\n",
      "  0.50590116 -0.35335577  1.0348797   0.9228235   0.781294   -0.19058752\n",
      "  0.31464535  0.30438682  0.          0.        ]\n",
      "adversary_1 :\n",
      "[ 0.          0.          0.86063415  0.83698845 -0.46712124 -0.6058221\n",
      " -0.52897847 -1.2761793  -1.0348797  -0.9228235  -0.2535857  -1.1134111\n",
      " -0.72023433 -0.6184367   0.          0.        ]\n",
      "adversary_2 :\n",
      "[ 0.          0.          0.60704845 -0.2764226  -0.21353555  0.5075889\n",
      " -0.2753928  -0.16276824 -0.781294    0.19058752  0.2535857   1.1134111\n",
      " -0.46664864  0.49497434  0.          0.        ]\n",
      "agent_0 :\n",
      "[-0.03951665 -0.12613297  0.13644816  0.20593844  0.25706476  0.02522789\n",
      "  0.19520749 -0.64512926 -0.32054192 -0.2870737   0.7219424   0.6249892\n",
      "  0.49084908 -0.4678908 ]\n",
      "adversary_0 :\n",
      "[-0.09848244  0.04699823 -0.18409376 -0.08113524  0.5776067   0.31230158\n",
      "  0.51574945 -0.3580556   1.0424844   0.9120629   0.811391   -0.1808171\n",
      "  0.32054192  0.2870737  -0.03951665 -0.12613297]\n",
      "adversary_1 :\n",
      "[-0.02243565 -0.06060785  0.85839057  0.83092767 -0.46487767 -0.5997613\n",
      " -0.52673495 -1.2701185  -1.0424844  -0.9120629  -0.23109333 -1.09288\n",
      " -0.7219424  -0.6249892  -0.03951665 -0.12613297]\n",
      "adversary_2 :\n",
      "[ 0.20248783  0.14470239  0.6272972  -0.26195234 -0.23378433  0.49311867\n",
      " -0.2956416  -0.17723848 -0.811391    0.1808171   0.23109333  1.09288\n",
      " -0.49084908  0.4678908  -0.03951665 -0.12613297]\n",
      "agent_0 :\n",
      "[-0.3405356  -0.21268375  0.1023946   0.18467008  0.29111832  0.04649626\n",
      "  0.22926106 -0.6238609  -0.2784881  -0.26170793  0.7613422   0.6279213\n",
      "  0.5433231  -0.4368069 ]\n"
     ]
    }
   ],
   "source": [
    "s = env.reset()\n",
    "\n",
    "i = 0\n",
    "for agent in env.agent_iter():\n",
    "\n",
    "    print(agent, ':')\n",
    "    env.step(env.action_space(agent).sample())\n",
    "    # observation space: shape(14),(16)\n",
    "    # Agent and adversary observations: [self_vel, self_pos, landmark_rel_positions, other_agent_rel_positions, other_agent_velocities]\n",
    "    # observation function in the simple_tag.py: other_agent_rel_positions contains all agents except oneself, the order is adversary to agent, \n",
    "    # other_agent_velocities only for not adversary\n",
    "    print(env.observe(agent))\n",
    "    \n",
    "    i = i + 1\n",
    "    if i == 8:\n",
    "        break\n",
    "\n",
    "env.close()"
   ]
  },
  {
   "cell_type": "markdown",
   "metadata": {},
   "source": [
    "## Policy network"
   ]
  }
 ],
 "metadata": {
  "kernelspec": {
   "display_name": "Python 3.8.10 64-bit",
   "language": "python",
   "name": "python3"
  },
  "language_info": {
   "codemirror_mode": {
    "name": "ipython",
    "version": 3
   },
   "file_extension": ".py",
   "mimetype": "text/x-python",
   "name": "python",
   "nbconvert_exporter": "python",
   "pygments_lexer": "ipython3",
   "version": "3.8.10"
  },
  "orig_nbformat": 4,
  "vscode": {
   "interpreter": {
    "hash": "570feb405e2e27c949193ac68f46852414290d515b0ba6e5d90d076ed2284471"
   }
  }
 },
 "nbformat": 4,
 "nbformat_minor": 2
}
